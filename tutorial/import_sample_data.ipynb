{
 "cells": [
  {
   "cell_type": "code",
   "execution_count": 10,
   "metadata": {},
   "outputs": [],
   "source": [
    "import ezdxf\n",
    "\n",
    "# create a new DXF R2010 document\n",
    "doc = ezdxf.new(\"R2010\")\n",
    "\n",
    "# add new entities to the modelspace\n",
    "msp = doc.modelspace()\n",
    "# add a LINE entity\n",
    "msp.add_line((0, 0), (10, 0))\n",
    "# save the DXF document\n",
    "doc.saveas(\"line.dxf\")"
   ]
  },
  {
   "cell_type": "code",
   "execution_count": null,
   "metadata": {},
   "outputs": [],
   "source": [
    "#\n",
    "#\n",
    "#\n",
    "\n",
    "import pandas as pd\n",
    "import numpy as nm\n",
    "\n",
    "df = pd.read_csv('../sample_data/offset_table.csv')\n",
    "\n",
    "#print(df.to_string()) \n",
    "\n",
    "sheer_offsets = df.loc[0]\n",
    "print(sheer_offsets[0:5])\n",
    "print(type(sheer_offsets))\n",
    "print(sheer_offsets[\"33\"])\n",
    "print(sheer_offsets[\"#\"])\n",
    "\n",
    "line2_offsets = df.loc[1]\n",
    "print(line2_offsets[0:5])\n",
    "print(line2_offsets['#'])\n",
    "\n",
    "#print(df)\n",
    "\n",
    "print(list(df['#']))\n",
    "print('10th line name is:', df.loc[10]['#'])\n",
    "\n",
    "print(list(df['18']))\n",
    "\n",
    "print(list(df['28']))\n",
    "\n",
    "print(list(df['33']))"
   ]
  },
  {
   "cell_type": "code",
   "execution_count": null,
   "metadata": {},
   "outputs": [],
   "source": [
    "station_positions = {}\n",
    "for c in df.columns:\n",
    "    if c == '#':\n",
    "        pass\n",
    "    else:\n",
    "        assert(c.isdecimal()) \n",
    "        station_positions[c] = (33 - int(c)) * 12 # 1' == 12 \" (inches)\n",
    "print(station_positions)"
   ]
  },
  {
   "cell_type": "code",
   "execution_count": null,
   "metadata": {},
   "outputs": [],
   "source": [
    "def draw_sheer (df, station_positions):\n",
    "    '''create a dxf file with the sheer line'''\n",
    "    # create a new DXF R2010 document\n",
    "    doc = ezdxf.new(\"R2010\")\n",
    "\n",
    "    # add new entities to the modelspace\n",
    "    msp = doc.modelspace()\n",
    "    # add a LINE entity\n",
    "    #msp.add_line((0, 0), (10, 0))\n",
    "    # save the DXF document\n",
    "    for c in df.columns:\n",
    "        if c.isdecimal():\n",
    "            print(c)\n",
    "\n",
    "    doc.saveas(\"sheer_line.dxf\")\n",
    "\n",
    "\n",
    "draw_sheer(df, station_positions)"
   ]
  },
  {
   "cell_type": "code",
   "execution_count": null,
   "metadata": {},
   "outputs": [],
   "source": [
    "import sys\n",
    "import os\n",
    "\n",
    "print(os.getcwd())\n"
   ]
  },
  {
   "cell_type": "code",
   "execution_count": 15,
   "metadata": {},
   "outputs": [],
   "source": [
    "import context\n",
    "from context import table_of_offsets\n",
    "\n",
    "model = table_of_offsets.Model(\"../sample_data/offset_table.csv\")\n",
    "\n",
    "sheer_line = model.loft_sheer()\n",
    "\n",
    "b3_line = model.loft_b3()\n",
    "\n",
    "with table_of_offsets.DXF(\"test1.dxf\") as dxf:\n",
    "\n",
    "    model.plot_grid(dxf)\n",
    "\n",
    "    dxf.add_red_polyline(sheer_line)\n",
    "    dxf.add_red_polyline(b3_line)\n",
    "    dxf.add_polyline(model.loft_line_n(2))\n",
    "    dxf.add_polyline(model.loft_line_n(3))\n",
    "    dxf.add_polyline(model.loft_line_n(4))\n",
    "    #\n",
    "    dxf.add_red_polyline(model.loft_line_n(6))\n",
    "\n",
    "    # dxf.close()\n"
   ]
  },
  {
   "cell_type": "code",
   "execution_count": null,
   "metadata": {},
   "outputs": [],
   "source": [
    "!ls -l"
   ]
  },
  {
   "cell_type": "code",
   "execution_count": null,
   "metadata": {},
   "outputs": [],
   "source": [
    "# Gartside#181-2 Offsets\n",
    "\n",
    "import pandas as pd\n",
    "import numpy as nm\n",
    "\n",
    "url = \"../sample_data_too/offset_table_181.csv\"\n",
    "df = pd.read_csv(url)\n",
    "\n",
    "print(df.columns)\n",
    "print(df.loc[0])\n",
    "print(list(df['#']))"
   ]
  },
  {
   "cell_type": "code",
   "execution_count": null,
   "metadata": {},
   "outputs": [],
   "source": [
    "# \n",
    "import pandas as pd\n",
    "import numpy as nm\n",
    "\n",
    "url = \"../sample_data_too/offset_table_blue_moon.csv\"\n",
    "df = pd.read_csv(url)\n",
    "\n",
    "print(list(df.columns))\n",
    "print(df.loc[0])\n",
    "print(list(df['#']))\n",
    "\n",
    "print(\"loc[9]\")\n",
    "print(df.loc[9])\n",
    "# dxf.add_red_polyline(self.loft_line_n(10))\n",
    "# dxf.add_red_polyline(self.loft_line_n(11))\n",
    "# dxf.add_red_polyline(self.loft_line_n(12))\n",
    "# dxf.add_red_polyline(self.loft_line_n(13))\n",
    "# dxf.add_red_polyline(self.loft_line_n(14))\n",
    "print(\"loc[14]\")\n",
    "print(df.loc[14])\n"
   ]
  },
  {
   "cell_type": "code",
   "execution_count": null,
   "metadata": {},
   "outputs": [],
   "source": []
  }
 ],
 "metadata": {
  "kernelspec": {
   "display_name": "Python 3",
   "language": "python",
   "name": "python3"
  },
  "language_info": {
   "codemirror_mode": {
    "name": "ipython",
    "version": 3
   },
   "file_extension": ".py",
   "mimetype": "text/x-python",
   "name": "python",
   "nbconvert_exporter": "python",
   "pygments_lexer": "ipython3",
   "version": "3.12.3"
  }
 },
 "nbformat": 4,
 "nbformat_minor": 2
}
